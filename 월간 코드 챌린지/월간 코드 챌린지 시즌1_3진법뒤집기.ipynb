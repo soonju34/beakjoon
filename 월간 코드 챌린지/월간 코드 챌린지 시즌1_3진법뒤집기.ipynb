{
 "cells": [
  {
   "cell_type": "code",
   "execution_count": 1,
   "id": "f0390f3f",
   "metadata": {},
   "outputs": [],
   "source": [
    "def solution(n):\n",
    "    answer = ''\n",
    "\n",
    "    while n > 0:\n",
    "        n, k = divmod(n,3) # n을 3으로 나눈 몫과 나머지\n",
    "        answer += str(k)\n",
    "    return int(answer, 3)  # 3진법으로 된것을 int(10)진법으로 바꿈"
   ]
  },
  {
   "cell_type": "code",
   "execution_count": null,
   "id": "ea53ff50",
   "metadata": {},
   "outputs": [],
   "source": []
  }
 ],
 "metadata": {
  "kernelspec": {
   "display_name": "Python 3 (ipykernel)",
   "language": "python",
   "name": "python3"
  },
  "language_info": {
   "codemirror_mode": {
    "name": "ipython",
    "version": 3
   },
   "file_extension": ".py",
   "mimetype": "text/x-python",
   "name": "python",
   "nbconvert_exporter": "python",
   "pygments_lexer": "ipython3",
   "version": "3.10.4"
  }
 },
 "nbformat": 4,
 "nbformat_minor": 5
}
