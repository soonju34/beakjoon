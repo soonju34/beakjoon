{
 "cells": [
  {
   "cell_type": "code",
   "execution_count": 7,
   "id": "863ed6c6",
   "metadata": {},
   "outputs": [],
   "source": [
    "def solution(s):\n",
    "    answer = ''\n",
    "    dict = ['zero', 'one', 'two', 'three', 'four', 'five',\n",
    "           'six', 'seven', 'eight','nine']\n",
    "    for idx, num in enumerate(dict):\n",
    "        if num in s:\n",
    "            s = s.replace(num, str(idx))\n",
    "        answer = s\n",
    "    return int(answer)"
   ]
  },
  {
   "cell_type": "code",
   "execution_count": 8,
   "id": "29f62470",
   "metadata": {},
   "outputs": [],
   "source": [
    "s = \"123\""
   ]
  },
  {
   "cell_type": "code",
   "execution_count": 9,
   "id": "8e4f77c9",
   "metadata": {},
   "outputs": [
    {
     "name": "stdout",
     "output_type": "stream",
     "text": [
      "123\n"
     ]
    }
   ],
   "source": [
    "print(solution(s))"
   ]
  },
  {
   "cell_type": "code",
   "execution_count": null,
   "id": "69f69da7",
   "metadata": {},
   "outputs": [],
   "source": []
  }
 ],
 "metadata": {
  "kernelspec": {
   "display_name": "Python 3 (ipykernel)",
   "language": "python",
   "name": "python3"
  },
  "language_info": {
   "codemirror_mode": {
    "name": "ipython",
    "version": 3
   },
   "file_extension": ".py",
   "mimetype": "text/x-python",
   "name": "python",
   "nbconvert_exporter": "python",
   "pygments_lexer": "ipython3",
   "version": "3.10.4"
  }
 },
 "nbformat": 4,
 "nbformat_minor": 5
}
