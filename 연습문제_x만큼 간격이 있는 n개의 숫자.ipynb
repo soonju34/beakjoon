{
 "cells": [
  {
   "cell_type": "code",
   "execution_count": null,
   "id": "c8a90938",
   "metadata": {},
   "outputs": [],
   "source": [
    "def solution(x, n):\n",
    "    x, n = map(int, input().split())\n",
    "    answer = []\n",
    "    for i in range(1,n+1):\n",
    "        a = x * i\n",
    "        answer.append(a)\n",
    "    return answer"
   ]
  },
  {
   "cell_type": "code",
   "execution_count": 2,
   "id": "a214e053",
   "metadata": {},
   "outputs": [
    {
     "name": "stdout",
     "output_type": "stream",
     "text": [
      "2 3\n",
      "[2, 4, 6]\n"
     ]
    }
   ],
   "source": [
    "x, n = map(int,input().split())\n",
    "answer = []\n",
    "for i in range(1,n+1):\n",
    "    a = x*i\n",
    "    answer.append(a)\n",
    "print(answer)"
   ]
  },
  {
   "cell_type": "code",
   "execution_count": null,
   "id": "2322d95b",
   "metadata": {},
   "outputs": [],
   "source": []
  }
 ],
 "metadata": {
  "kernelspec": {
   "display_name": "Python 3 (ipykernel)",
   "language": "python",
   "name": "python3"
  },
  "language_info": {
   "codemirror_mode": {
    "name": "ipython",
    "version": 3
   },
   "file_extension": ".py",
   "mimetype": "text/x-python",
   "name": "python",
   "nbconvert_exporter": "python",
   "pygments_lexer": "ipython3",
   "version": "3.10.4"
  }
 },
 "nbformat": 4,
 "nbformat_minor": 5
}
