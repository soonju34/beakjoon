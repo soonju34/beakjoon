{
 "cells": [
  {
   "cell_type": "code",
   "execution_count": null,
   "id": "e347d770",
   "metadata": {},
   "outputs": [],
   "source": [
    "def solution(array, commands):\n",
    "    answer = []\n",
    "    \n",
    "    for i in commands:\n",
    "        ary = array[i[0]-1: i[1]]    # 문제에서 주어진 크기만큼 자르기\n",
    "        ary.sort()    # sort 함수로 정렬\n",
    "        answer.append(ary[i[2]-1])    # k 번째 값 집어넣기\n",
    "        \n",
    "    return answer"
   ]
  }
 ],
 "metadata": {
  "kernelspec": {
   "display_name": "Python 3 (ipykernel)",
   "language": "python",
   "name": "python3"
  },
  "language_info": {
   "codemirror_mode": {
    "name": "ipython",
    "version": 3
   },
   "file_extension": ".py",
   "mimetype": "text/x-python",
   "name": "python",
   "nbconvert_exporter": "python",
   "pygments_lexer": "ipython3",
   "version": "3.10.4"
  }
 },
 "nbformat": 4,
 "nbformat_minor": 5
}
