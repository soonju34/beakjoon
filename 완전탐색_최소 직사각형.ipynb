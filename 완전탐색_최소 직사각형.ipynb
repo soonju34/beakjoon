{
 "cells": [
  {
   "cell_type": "code",
   "execution_count": 15,
   "id": "dc46baaa",
   "metadata": {
    "scrolled": true
   },
   "outputs": [
    {
     "name": "stdout",
     "output_type": "stream",
     "text": [
      "30 70\n",
      "60 30\n",
      "60 50\n",
      "80 40\n"
     ]
    }
   ],
   "source": [
    "for x, y in a:\n",
    "\tprint(x, y)"
   ]
  },
  {
   "cell_type": "code",
   "execution_count": 60,
   "id": "d80e06e8",
   "metadata": {},
   "outputs": [],
   "source": [
    "# 예시를 잘 살펴 보면 오른 차순으로 재정렬하여 각각의 max값을 구하는게 편하다\n",
    "def solution(sizes):\n",
    "    answer = 0\n",
    "    # 인덱스를 붙이고자 할때 enumerate\n",
    "    for i, (x,y) in enumerate(sizes):\n",
    "        if x > y:\n",
    "            sizes[i] = [y,x]\n",
    "    # zip() 배열 형식처럼 다시 묶음        \n",
    "    x,y = list(zip(*sizes))\n",
    "    return max(x) * max(y)"
   ]
  },
  {
   "cell_type": "code",
   "execution_count": 61,
   "id": "5f327bc4",
   "metadata": {},
   "outputs": [
    {
     "name": "stdout",
     "output_type": "stream",
     "text": [
      "4000\n"
     ]
    }
   ],
   "source": [
    "print(solution(sizes))"
   ]
  },
  {
   "cell_type": "code",
   "execution_count": null,
   "id": "eec81a08",
   "metadata": {},
   "outputs": [],
   "source": []
  }
 ],
 "metadata": {
  "kernelspec": {
   "display_name": "Python 3 (ipykernel)",
   "language": "python",
   "name": "python3"
  },
  "language_info": {
   "codemirror_mode": {
    "name": "ipython",
    "version": 3
   },
   "file_extension": ".py",
   "mimetype": "text/x-python",
   "name": "python",
   "nbconvert_exporter": "python",
   "pygments_lexer": "ipython3",
   "version": "3.10.4"
  }
 },
 "nbformat": 4,
 "nbformat_minor": 5
}
