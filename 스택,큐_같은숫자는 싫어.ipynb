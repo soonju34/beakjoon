{
 "cells": [
  {
   "cell_type": "code",
   "execution_count": 3,
   "id": "05a3df38",
   "metadata": {},
   "outputs": [],
   "source": [
    "arr= [1,1,3,3,0,1,1]"
   ]
  },
  {
   "cell_type": "code",
   "execution_count": 14,
   "id": "0107d0b3",
   "metadata": {},
   "outputs": [],
   "source": [
    "def solution(arr):\n",
    "    answer = []\n",
    "    for i in range(len(arr)):\n",
    "        if i == 0:\n",
    "            answer.append(arr[i])\n",
    "        elif arr[i] != arr[i-1]:\n",
    "            answer.append(arr[i])\n",
    "    return answer"
   ]
  },
  {
   "cell_type": "code",
   "execution_count": 15,
   "id": "7e668b11",
   "metadata": {},
   "outputs": [
    {
     "name": "stdout",
     "output_type": "stream",
     "text": [
      "[1, 3, 0, 1]\n"
     ]
    }
   ],
   "source": [
    "print(solution(arr))"
   ]
  },
  {
   "cell_type": "code",
   "execution_count": null,
   "id": "67a9451b",
   "metadata": {},
   "outputs": [],
   "source": []
  }
 ],
 "metadata": {
  "kernelspec": {
   "display_name": "Python 3 (ipykernel)",
   "language": "python",
   "name": "python3"
  },
  "language_info": {
   "codemirror_mode": {
    "name": "ipython",
    "version": 3
   },
   "file_extension": ".py",
   "mimetype": "text/x-python",
   "name": "python",
   "nbconvert_exporter": "python",
   "pygments_lexer": "ipython3",
   "version": "3.10.4"
  }
 },
 "nbformat": 4,
 "nbformat_minor": 5
}
