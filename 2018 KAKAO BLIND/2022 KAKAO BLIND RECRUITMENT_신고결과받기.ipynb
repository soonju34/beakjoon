{
 "cells": [
  {
   "cell_type": "code",
   "execution_count": 2,
   "id": "28188efa",
   "metadata": {},
   "outputs": [
    {
     "name": "stdout",
     "output_type": "stream",
     "text": [
      "Collecting collection\n",
      "  Downloading collection-0.1.6.tar.gz (5.0 kB)\n",
      "  Preparing metadata (setup.py): started\n",
      "  Preparing metadata (setup.py): finished with status 'done'\n",
      "Building wheels for collected packages: collection\n",
      "  Building wheel for collection (setup.py): started\n",
      "  Building wheel for collection (setup.py): finished with status 'done'\n",
      "  Created wheel for collection: filename=collection-0.1.6-py3-none-any.whl size=5115 sha256=ec24f3cee644d0d39e944b1339ba61b393981e5b87599bcd8d159217167ae718\n",
      "  Stored in directory: c:\\users\\user\\appdata\\local\\pip\\cache\\wheels\\a5\\70\\eb\\1d28795e9384ab3b9be6359bdde9e1652f6e7dab9d26844f70\n",
      "Successfully built collection\n",
      "Installing collected packages: collection\n",
      "Successfully installed collection-0.1.6\n"
     ]
    }
   ],
   "source": [
    "!pip install collection"
   ]
  },
  {
   "cell_type": "code",
   "execution_count": 3,
   "id": "b91a8881",
   "metadata": {},
   "outputs": [],
   "source": [
    "import collections as c\n",
    "\n",
    "def solution(id_list, report, k):\n",
    "    result = []\n",
    "    rpdict = c.defaultdict(list) \n",
    "    stop = c.defaultdict(int)\n",
    "    \n",
    "    for i in range(len(report)):\n",
    "        who, rp = report[i].split()\n",
    "        \n",
    "        if rp not in rpdict[who]: #이미 신고한 유저는 추가 스킵\n",
    "            rpdict[who].append(rp)\n",
    "            stop[rp]+=1\n",
    "    \n",
    "    for x in id_list:\n",
    "        cnt=0\n",
    "        for y in rpdict[x]:\n",
    "            if stop[y]>=k:\n",
    "                cnt+=1\n",
    "        result.append(cnt)\n",
    "    \n",
    "    return result"
   ]
  },
  {
   "cell_type": "code",
   "execution_count": null,
   "id": "bf50d186",
   "metadata": {},
   "outputs": [],
   "source": []
  }
 ],
 "metadata": {
  "kernelspec": {
   "display_name": "Python 3 (ipykernel)",
   "language": "python",
   "name": "python3"
  },
  "language_info": {
   "codemirror_mode": {
    "name": "ipython",
    "version": 3
   },
   "file_extension": ".py",
   "mimetype": "text/x-python",
   "name": "python",
   "nbconvert_exporter": "python",
   "pygments_lexer": "ipython3",
   "version": "3.10.4"
  }
 },
 "nbformat": 4,
 "nbformat_minor": 5
}
