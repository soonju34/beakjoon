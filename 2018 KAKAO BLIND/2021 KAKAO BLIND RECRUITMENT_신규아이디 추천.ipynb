{
 "cells": [
  {
   "cell_type": "code",
   "execution_count": 26,
   "id": "01299fed",
   "metadata": {},
   "outputs": [],
   "source": [
    "def solution(new_id):\n",
    "    # 대문자 소문자변환\n",
    "    new_id = new_id.lower()\n",
    "    \n",
    "    id_list = []\n",
    "    for word in new_id:\n",
    "        if word.isalnum() or word in ['-', '_', '.']:\n",
    "            if id_list:\n",
    "                if word ==  '.' and id_list[-1] == '.':\n",
    "                    continue\n",
    "            id_list.append(word)\n",
    "            \n",
    "    # 처음과 끝이 .일때\n",
    "    if id_list:\n",
    "        if id_list[0] == '.':\n",
    "            id_list = id_list[1:]\n",
    "    if id_list:\n",
    "        if id_list[-1] == '.':\n",
    "            id_list.pop()\n",
    "    \n",
    "    # 빈칸일때 \n",
    "    if not id_list:\n",
    "        id_list.append('a')\n",
    "\n",
    "    # 길이 초과\n",
    "    if len(id_list) >= 16:\n",
    "        id_list = id_list[:15]\n",
    "        if id_list[-1] == '.':\n",
    "            id_list.pop()\n",
    "    \n",
    "    # 길이 미달\n",
    "    if len(id_list) <= 2:\n",
    "        last = id_list[-1]\n",
    "        while len(id_list) != 3:\n",
    "            id_list.append(last)\n",
    "    \n",
    "    return ''.join(id_list)"
   ]
  },
  {
   "cell_type": "code",
   "execution_count": 27,
   "id": "4092590f",
   "metadata": {},
   "outputs": [
    {
     "name": "stdout",
     "output_type": "stream",
     "text": [
      "aaa\n"
     ]
    }
   ],
   "source": [
    "print(solution(\"=.=\"))"
   ]
  },
  {
   "cell_type": "code",
   "execution_count": 28,
   "id": "915a5730",
   "metadata": {},
   "outputs": [
    {
     "name": "stdout",
     "output_type": "stream",
     "text": [
      "z--\n"
     ]
    }
   ],
   "source": [
    "print(solution(\"z-+.^.\"))"
   ]
  },
  {
   "cell_type": "code",
   "execution_count": null,
   "id": "75f3bba6",
   "metadata": {},
   "outputs": [],
   "source": []
  }
 ],
 "metadata": {
  "kernelspec": {
   "display_name": "Python 3 (ipykernel)",
   "language": "python",
   "name": "python3"
  },
  "language_info": {
   "codemirror_mode": {
    "name": "ipython",
    "version": 3
   },
   "file_extension": ".py",
   "mimetype": "text/x-python",
   "name": "python",
   "nbconvert_exporter": "python",
   "pygments_lexer": "ipython3",
   "version": "3.10.4"
  }
 },
 "nbformat": 4,
 "nbformat_minor": 5
}
