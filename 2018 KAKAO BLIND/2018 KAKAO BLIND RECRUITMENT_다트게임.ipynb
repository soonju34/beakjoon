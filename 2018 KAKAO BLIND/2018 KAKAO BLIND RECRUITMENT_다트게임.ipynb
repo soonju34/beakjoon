{
 "cells": [
  {
   "cell_type": "code",
   "execution_count": 3,
   "id": "e32b7149",
   "metadata": {},
   "outputs": [],
   "source": [
    "def solution(dartResult):\n",
    "    stack = []\n",
    "    dartResult = dartResult.replace(\"10\", \"A\")\n",
    "    bonus = {'S' : 1, 'D' : 2, 'T' : 3}\n",
    "    \n",
    "    for i in dartResult:\n",
    "        if i.isdigit() or i == 'A':\n",
    "            stack.append(10 if i == 'A' else int(i))\n",
    "        elif i in ('S', 'D', 'T'):\n",
    "            n = stack.pop()\n",
    "            stack.append(n ** bonus[i])\n",
    "        elif i == '#':\n",
    "            stack[-1] *= -1\n",
    "        elif i == '*':\n",
    "            n = stack.pop()\n",
    "            if len(stack):\n",
    "                stack[-1] *= 2\n",
    "            stack.append(n * 2)\n",
    "    return sum(stack)"
   ]
  },
  {
   "cell_type": "code",
   "execution_count": null,
   "id": "64bb8140",
   "metadata": {},
   "outputs": [],
   "source": []
  }
 ],
 "metadata": {
  "kernelspec": {
   "display_name": "Python 3 (ipykernel)",
   "language": "python",
   "name": "python3"
  },
  "language_info": {
   "codemirror_mode": {
    "name": "ipython",
    "version": 3
   },
   "file_extension": ".py",
   "mimetype": "text/x-python",
   "name": "python",
   "nbconvert_exporter": "python",
   "pygments_lexer": "ipython3",
   "version": "3.10.4"
  }
 },
 "nbformat": 4,
 "nbformat_minor": 5
}
