{
 "cells": [
  {
   "cell_type": "code",
   "execution_count": 3,
   "id": "e8f50115",
   "metadata": {},
   "outputs": [
    {
     "name": "stdout",
     "output_type": "stream",
     "text": [
      "[(0, 1, 2), (0, 1, 3), (0, 1, 4), (0, 1, 5), (0, 2, 3), (0, 2, 4), (0, 2, 5), (0, 3, 4), (0, 3, 5), (0, 4, 5), (1, 2, 3), (1, 2, 4), (1, 2, 5), (1, 3, 4), (1, 3, 5), (1, 4, 5), (2, 3, 4), (2, 3, 5), (2, 4, 5), (3, 4, 5)]\n"
     ]
    }
   ],
   "source": [
    "from itertools import combinations\n",
    "arr = [0, 1, 2, 3, 4, 5]\n",
    "\n",
    "print(list(combinations(arr, 3)))"
   ]
  },
  {
   "cell_type": "code",
   "execution_count": 4,
   "id": "631a454c",
   "metadata": {},
   "outputs": [
    {
     "name": "stdout",
     "output_type": "stream",
     "text": [
      "10\n",
      "9\n",
      "7\n",
      "14\n",
      "12\n",
      "11\n",
      "15\n",
      "13\n",
      "12\n",
      "17\n"
     ]
    }
   ],
   "source": [
    "from itertools import combinations\n",
    "arr = [1,2,7,6,4]\n",
    "a=list(combinations(arr,3))\n",
    "for i in range(len(a)):\n",
    "    b=sum(a[i])\n",
    "    print(b)"
   ]
  },
  {
   "cell_type": "code",
   "execution_count": 10,
   "id": "359b0fec",
   "metadata": {},
   "outputs": [
    {
     "name": "stdout",
     "output_type": "stream",
     "text": [
      "10\n"
     ]
    }
   ],
   "source": [
    "print(len(a))"
   ]
  },
  {
   "cell_type": "code",
   "execution_count": 11,
   "id": "f3c1c470",
   "metadata": {},
   "outputs": [
    {
     "name": "stdout",
     "output_type": "stream",
     "text": [
      "[(1, 2, 7), (1, 2, 6), (1, 2, 4), (1, 7, 6), (1, 7, 4), (1, 6, 4), (2, 7, 6), (2, 7, 4), (2, 6, 4), (7, 6, 4)]\n"
     ]
    }
   ],
   "source": [
    "print(a)"
   ]
  },
  {
   "cell_type": "code",
   "execution_count": 8,
   "id": "91f0f514",
   "metadata": {},
   "outputs": [],
   "source": [
    "from itertools import combinations\n",
    "\n",
    "# 소수 판별\n",
    "def primenumber(num):\n",
    "    if num==0 or num==1:\n",
    "        return False\n",
    "    else:\n",
    "        for n in range(2, (num//2)+1):     \n",
    "            if num%n == 0:\n",
    "                return False\n",
    "        \n",
    "        return True\n",
    "\n",
    "                    \n",
    "def solution(nums):\n",
    "    answer = 0\n",
    "    cNum = list(combinations(nums,3))        \n",
    "    for arr in cNum:\n",
    "        if primenumber(sum(arr)):       \n",
    "            answer += 1   \n",
    "    \n",
    "    return answer"
   ]
  },
  {
   "cell_type": "code",
   "execution_count": 2,
   "id": "e5633644",
   "metadata": {},
   "outputs": [],
   "source": [
    "nums = [1,2,7,6,4]"
   ]
  },
  {
   "cell_type": "code",
   "execution_count": null,
   "id": "bacbfb9f",
   "metadata": {},
   "outputs": [],
   "source": []
  }
 ],
 "metadata": {
  "kernelspec": {
   "display_name": "Python 3 (ipykernel)",
   "language": "python",
   "name": "python3"
  },
  "language_info": {
   "codemirror_mode": {
    "name": "ipython",
    "version": 3
   },
   "file_extension": ".py",
   "mimetype": "text/x-python",
   "name": "python",
   "nbconvert_exporter": "python",
   "pygments_lexer": "ipython3",
   "version": "3.10.4"
  }
 },
 "nbformat": 4,
 "nbformat_minor": 5
}
