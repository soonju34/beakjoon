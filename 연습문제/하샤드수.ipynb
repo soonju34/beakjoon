{
 "cells": [
  {
   "cell_type": "code",
   "execution_count": 1,
   "id": "339bae40",
   "metadata": {},
   "outputs": [],
   "source": [
    "def solution(x):\n",
    "    return x % sum([int(c) for c in str(x)]) == 0"
   ]
  },
  {
   "cell_type": "code",
   "execution_count": null,
   "id": "1bc192a9",
   "metadata": {},
   "outputs": [],
   "source": []
  }
 ],
 "metadata": {
  "kernelspec": {
   "display_name": "Python 3 (ipykernel)",
   "language": "python",
   "name": "python3"
  },
  "language_info": {
   "codemirror_mode": {
    "name": "ipython",
    "version": 3
   },
   "file_extension": ".py",
   "mimetype": "text/x-python",
   "name": "python",
   "nbconvert_exporter": "python",
   "pygments_lexer": "ipython3",
   "version": "3.10.4"
  }
 },
 "nbformat": 4,
 "nbformat_minor": 5
}
