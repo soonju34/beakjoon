{
 "cells": [
  {
   "cell_type": "code",
   "execution_count": 31,
   "id": "55f15f86",
   "metadata": {},
   "outputs": [],
   "source": [
    "def solution(s):\n",
    "    if len(s) % 2 == 0:\n",
    "        return s[len(s) // 2 -1 : len(s) // 2 + 1]\n",
    "    else :\n",
    "        return s[len(s) % 2 +1]"
   ]
  },
  {
   "cell_type": "code",
   "execution_count": 32,
   "id": "d99cfc38",
   "metadata": {},
   "outputs": [],
   "source": [
    "s = \"abcde\""
   ]
  },
  {
   "cell_type": "code",
   "execution_count": 2,
   "id": "3eb9b1cd",
   "metadata": {},
   "outputs": [
    {
     "data": {
      "text/plain": [
       "'c'"
      ]
     },
     "execution_count": 2,
     "metadata": {},
     "output_type": "execute_result"
    }
   ],
   "source": [
    "s[2]"
   ]
  },
  {
   "cell_type": "code",
   "execution_count": 7,
   "id": "01d1f7fe",
   "metadata": {},
   "outputs": [
    {
     "data": {
      "text/plain": [
       "'c'"
      ]
     },
     "execution_count": 7,
     "metadata": {},
     "output_type": "execute_result"
    }
   ],
   "source": [
    "s[len(s) % 2 + 1]"
   ]
  },
  {
   "cell_type": "code",
   "execution_count": 35,
   "id": "2da6a19e",
   "metadata": {},
   "outputs": [],
   "source": [
    "s = \"abcdef\""
   ]
  },
  {
   "cell_type": "code",
   "execution_count": 10,
   "id": "185dfb75",
   "metadata": {},
   "outputs": [
    {
     "data": {
      "text/plain": [
       "'cd'"
      ]
     },
     "execution_count": 10,
     "metadata": {},
     "output_type": "execute_result"
    }
   ],
   "source": [
    "s[2:4]"
   ]
  },
  {
   "cell_type": "code",
   "execution_count": 13,
   "id": "be2c2ca3",
   "metadata": {},
   "outputs": [
    {
     "data": {
      "text/plain": [
       "3"
      ]
     },
     "execution_count": 13,
     "metadata": {},
     "output_type": "execute_result"
    }
   ],
   "source": [
    "len(s)// 2"
   ]
  },
  {
   "cell_type": "code",
   "execution_count": 14,
   "id": "1629fc25",
   "metadata": {},
   "outputs": [
    {
     "data": {
      "text/plain": [
       "'cd'"
      ]
     },
     "execution_count": 14,
     "metadata": {},
     "output_type": "execute_result"
    }
   ],
   "source": [
    "s[len(s) // 2 -1 : len(s) // 2 + 1]"
   ]
  },
  {
   "cell_type": "code",
   "execution_count": 36,
   "id": "9aee924c",
   "metadata": {},
   "outputs": [
    {
     "name": "stdout",
     "output_type": "stream",
     "text": [
      "cd\n"
     ]
    }
   ],
   "source": [
    "print(solution(s))"
   ]
  },
  {
   "cell_type": "code",
   "execution_count": 34,
   "id": "a8b6008c",
   "metadata": {},
   "outputs": [],
   "source": [
    "def soulution(s):\n",
    "    return s[len(s) // 2 -1 : len(s) // 2 + 1] if len(s) % 2 == 0 else s[len(s) % 2 +1]"
   ]
  },
  {
   "cell_type": "code",
   "execution_count": null,
   "id": "0ba390d6",
   "metadata": {},
   "outputs": [],
   "source": []
  }
 ],
 "metadata": {
  "kernelspec": {
   "display_name": "Python [conda env:ai] *",
   "language": "python",
   "name": "conda-env-ai-py"
  },
  "language_info": {
   "codemirror_mode": {
    "name": "ipython",
    "version": 3
   },
   "file_extension": ".py",
   "mimetype": "text/x-python",
   "name": "python",
   "nbconvert_exporter": "python",
   "pygments_lexer": "ipython3",
   "version": "3.6.13"
  }
 },
 "nbformat": 4,
 "nbformat_minor": 5
}
