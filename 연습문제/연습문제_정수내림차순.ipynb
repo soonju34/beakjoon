{
 "cells": [
  {
   "cell_type": "code",
   "execution_count": 1,
   "id": "278cd259",
   "metadata": {},
   "outputs": [],
   "source": [
    "def solution(n):\n",
    "    lst = list(str(int(n)))\n",
    "    lst.sort(reverse = True)\n",
    "    \n",
    "    return int(\"\".join(lst))"
   ]
  },
  {
   "cell_type": "code",
   "execution_count": null,
   "id": "fc14eac8",
   "metadata": {},
   "outputs": [],
   "source": []
  }
 ],
 "metadata": {
  "kernelspec": {
   "display_name": "Python [conda env:ai] *",
   "language": "python",
   "name": "conda-env-ai-py"
  },
  "language_info": {
   "codemirror_mode": {
    "name": "ipython",
    "version": 3
   },
   "file_extension": ".py",
   "mimetype": "text/x-python",
   "name": "python",
   "nbconvert_exporter": "python",
   "pygments_lexer": "ipython3",
   "version": "3.6.13"
  }
 },
 "nbformat": 4,
 "nbformat_minor": 5
}
