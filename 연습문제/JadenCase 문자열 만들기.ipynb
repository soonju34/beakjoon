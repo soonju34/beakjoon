{
 "cells": [
  {
   "cell_type": "code",
   "execution_count": 1,
   "id": "127eadf4",
   "metadata": {},
   "outputs": [],
   "source": [
    "def solution(s):\n",
    "    answer = ''\n",
    "    s=s.split(' ')\n",
    "    for i in range(len(s)):\n",
    "        # capitalize 내장함수를 사용하면 첫 문자가 알파벳일 경우 대문자로 만들고\n",
    "        # 두번째 문자부터는 자동으로 소문자로 만든다\n",
    "        # 첫 문자가 알파벳이 아니면 그대로 리턴한다\n",
    "        s[i]=s[i].capitalize()\n",
    "    answer=' '.join(s)\n",
    "    return answer"
   ]
  },
  {
   "cell_type": "code",
   "execution_count": 2,
   "id": "1b3cc981",
   "metadata": {},
   "outputs": [],
   "source": [
    "def solution(s):\n",
    "    answer=''\n",
    "    s=s.split(' ')\n",
    "    for i in range(len(s)):\n",
    "        if not s[i][0].isdecimal():\n",
    "            s[i]=s[i][0].upper()+s[i][1:].lower()\n",
    "    answer=' '.join(s)\n",
    "    return answer"
   ]
  },
  {
   "cell_type": "code",
   "execution_count": null,
   "id": "e084dde7",
   "metadata": {},
   "outputs": [],
   "source": []
  }
 ],
 "metadata": {
  "kernelspec": {
   "display_name": "Python 3 (ipykernel)",
   "language": "python",
   "name": "python3"
  },
  "language_info": {
   "codemirror_mode": {
    "name": "ipython",
    "version": 3
   },
   "file_extension": ".py",
   "mimetype": "text/x-python",
   "name": "python",
   "nbconvert_exporter": "python",
   "pygments_lexer": "ipython3",
   "version": "3.10.4"
  }
 },
 "nbformat": 4,
 "nbformat_minor": 5
}
